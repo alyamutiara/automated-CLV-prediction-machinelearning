{
  "cells": [
    {
      "cell_type": "markdown",
      "source": [
        "# Silver Schema (skip this)"
      ],
      "metadata": {
        "id": "yVhjDnvI_u0D"
      },
      "id": "yVhjDnvI_u0D"
    },
    {
      "cell_type": "code",
      "source": [
        "CREATE OR REPLACE TABLE `finalproject-g2df12.retail.fct_invoices` AS\n",
        "\n",
        "SELECT\n",
        "  InvoiceNo,\n",
        "  PARSE_DATETIME('%m/%d/%y %H:%M', InvoiceDate) AS InvoiceDate,\n",
        "  StockCode,\n",
        "  CAST(CustomerID AS INT64) AS CustomerID,\n",
        "  Quantity,\n",
        "  CAST(UnitPrice AS NUMERIC) * CAST(Quantity AS NUMERIC) AS TotalPrice\n",
        "FROM `finalproject-g2df12.retail.raw_dataiku`"
      ],
      "metadata": {
        "id": "yZ0UKIUB_zS_"
      },
      "id": "yZ0UKIUB_zS_",
      "execution_count": null,
      "outputs": []
    },
    {
      "cell_type": "code",
      "source": [
        "CREATE OR REPLACE TABLE `finalproject-g2df12.retail.dim_products` AS\n",
        "\n",
        "SELECT\n",
        "  StockCode,\n",
        "  Description,\n",
        "  ModeUnitPrice AS UnitPrice\n",
        "FROM (\n",
        "  SELECT\n",
        "    StockCode,\n",
        "    Description,\n",
        "    UnitPrice AS ModeUnitPrice,\n",
        "    ROW_NUMBER() OVER (PARTITION BY StockCode ORDER BY COUNT(*) DESC) AS rn\n",
        "  FROM\n",
        "    `finalproject-g2df12.retail.raw_dataiku`\n",
        "  --WHERE UnitPrice > 0\n",
        "  GROUP BY\n",
        "    StockCode, Description, UnitPrice\n",
        ")\n",
        "WHERE rn = 1\n",
        "ORDER BY StockCode"
      ],
      "metadata": {
        "id": "agGcEVNO_2zS"
      },
      "id": "agGcEVNO_2zS",
      "execution_count": null,
      "outputs": []
    },
    {
      "cell_type": "code",
      "source": [
        "CREATE OR REPLACE TABLE `finalproject-g2df12.retail.dim_customers` AS\n",
        "\n",
        "SELECT\n",
        "  CAST(CustomerID AS INT64) AS CustomerID,\n",
        "  Country,\n",
        "  MIN(InvoiceDate) AS first_transaction,\n",
        "  MAX(InvoiceDate) AS last_transaction,\n",
        "  COUNT(InvoiceNo) AS count_order,\n",
        "  SUM(UnitPrice * Quantity) AS total_purchase\n",
        "FROM `finalproject-g2df12.retail.raw_dataiku`\n",
        "GROUP BY CustomerID, Country"
      ],
      "metadata": {
        "id": "NTh4EIqo_4uc"
      },
      "id": "NTh4EIqo_4uc",
      "execution_count": null,
      "outputs": []
    },
    {
      "cell_type": "code",
      "source": [
        "CREATE OR REPLACE TABLE `finalproject-g2df12.retail.dim_datetime` AS\n",
        "\n",
        "SELECT\n",
        "  InvoiceDate,\n",
        "  EXTRACT(YEAR FROM InvoiceDate) AS year,\n",
        "  EXTRACT(MONTH FROM InvoiceDate) AS month,\n",
        "  EXTRACT(DAY FROM InvoiceDate) AS day,\n",
        "  EXTRACT(QUARTER FROM InvoiceDate) AS quarter,\n",
        "  EXTRACT(DAYOFWEEK FROM InvoiceDate) AS day_of_week,\n",
        "  EXTRACT(ISOWEEK FROM InvoiceDate) AS week_of_year\n",
        "FROM `finalproject-g2df12.retail.raw_dataiku`"
      ],
      "metadata": {
        "id": "fW4NBVgM_6T6"
      },
      "id": "fW4NBVgM_6T6",
      "execution_count": null,
      "outputs": []
    },
    {
      "cell_type": "markdown",
      "source": [
        "# BigQuery Connection"
      ],
      "metadata": {
        "id": "Y6BTiTTx_7C9"
      },
      "id": "Y6BTiTTx_7C9"
    },
    {
      "cell_type": "code",
      "id": "1REaBcabv8wXyWO6Ca8AGn0k",
      "metadata": {
        "tags": [],
        "id": "1REaBcabv8wXyWO6Ca8AGn0k"
      },
      "source": [
        "!pip install --upgrade google-cloud-storage"
      ],
      "execution_count": null,
      "outputs": []
    },
    {
      "cell_type": "code",
      "source": [
        "import os\n",
        "from google.cloud import storage\n",
        "\n",
        "# Define your GCS bucket and the key file path\n",
        "bucket_name = 'g2-finalproject'\n",
        "key_file_path = 'Credential/vertex.json'\n",
        "local_key_path = '/tmp/service-account-file.json'\n",
        "\n",
        "# Initialize a client\n",
        "storage_client = storage.Client()\n",
        "\n",
        "# Download the key file from GCS\n",
        "bucket = storage_client.bucket(bucket_name)\n",
        "blob = bucket.blob(key_file_path)\n",
        "blob.download_to_filename(local_key_path)\n",
        "\n",
        "# Set the environment variable\n",
        "os.environ['GOOGLE_APPLICATION_CREDENTIALS'] = local_key_path\n",
        "\n",
        "# Verify the environment variable is set correctly\n",
        "print(f\"GOOGLE_APPLICATION_CREDENTIALS is set to: {os.getenv('GOOGLE_APPLICATION_CREDENTIALS')}\")"
      ],
      "metadata": {
        "colab": {
          "base_uri": "https://localhost:8080/"
        },
        "id": "673nsqshANEY",
        "executionInfo": {
          "status": "ok",
          "timestamp": 1717568977571,
          "user_tz": -420,
          "elapsed": 228,
          "user": {
            "displayName": "",
            "userId": ""
          }
        },
        "outputId": "2178869e-ceb7-4966-f1f9-5a7f957415cf"
      },
      "id": "673nsqshANEY",
      "execution_count": null,
      "outputs": [
        {
          "output_type": "stream",
          "name": "stdout",
          "text": [
            "GOOGLE_APPLICATION_CREDENTIALS is set to: /tmp/service-account-file.json\n"
          ]
        }
      ]
    },
    {
      "cell_type": "code",
      "source": [
        "from google.cloud import bigquery\n",
        "import pandas as pd\n",
        "\n",
        "# Initialize the BigQuery client\n",
        "client = bigquery.Client(location=\"asia-southeast2\")\n",
        "\n",
        "def run_query(query):\n",
        "  query_job = client.query(query)  # Create an API request\n",
        "  result = query_job.result() # Wait for the query to finish\n",
        "\n",
        "  df_query = result.to_dataframe()\n",
        "  return df_query"
      ],
      "metadata": {
        "id": "bvXZe_KNAaBB"
      },
      "id": "bvXZe_KNAaBB",
      "execution_count": null,
      "outputs": []
    },
    {
      "cell_type": "code",
      "source": [
        "query = \"\"\"\n",
        "SELECT *\n",
        "FROM `finalproject-g2df12.retail.raw_dataiku`\n",
        "LIMIT 10\n",
        "\"\"\"\n",
        "\n",
        "run_query(query)"
      ],
      "metadata": {
        "colab": {
          "base_uri": "https://localhost:8080/",
          "height": 363
        },
        "id": "ojrlED4IBdF6",
        "executionInfo": {
          "status": "ok",
          "timestamp": 1717503293786,
          "user_tz": -420,
          "elapsed": 2087,
          "user": {
            "displayName": "",
            "userId": ""
          }
        },
        "outputId": "309a20bf-3d95-4119-8d40-0a1c47725a1d"
      },
      "id": "ojrlED4IBdF6",
      "execution_count": null,
      "outputs": [
        {
          "output_type": "execute_result",
          "data": {
            "text/plain": [
              "  InvoiceNo StockCode                     Description  Quantity  \\\n",
              "0    536414     22139                            None        56   \n",
              "1    536544     22077          6 RIBBONS RUSTIC CHARM         3   \n",
              "2    536544     22111    SCOTTIE DOG HOT WATER BOTTLE         2   \n",
              "3    536544     22080          RIBBON REEL POLKADOTS          1   \n",
              "4    536544     71459  HANGING JAM JAR T-LIGHT HOLDER         8   \n",
              "5    536544     21790              VINTAGE SNAP CARDS         9   \n",
              "6    536544     22037             ROBOT BIRTHDAY CARD         1   \n",
              "7    536544     22224          WHITE LOVEBIRD LANTERN         1   \n",
              "8    536544     22379        RECYCLING BAG RETROSPOT          2   \n",
              "9    536544     85064    CREAM SWEETHEART LETTER RACK         1   \n",
              "\n",
              "          InvoiceDate  UnitPrice CustomerID         Country  \n",
              "0 2010-12-01 11:52:00       0.00       None  United Kingdom  \n",
              "1 2010-12-01 14:32:00       3.36       None  United Kingdom  \n",
              "2 2010-12-01 14:32:00      11.02       None  United Kingdom  \n",
              "3 2010-12-01 14:32:00       3.36       None  United Kingdom  \n",
              "4 2010-12-01 14:32:00       1.69       None  United Kingdom  \n",
              "5 2010-12-01 14:32:00       1.66       None  United Kingdom  \n",
              "6 2010-12-01 14:32:00       0.85       None  United Kingdom  \n",
              "7 2010-12-01 14:32:00       5.91       None  United Kingdom  \n",
              "8 2010-12-01 14:32:00       4.21       None  United Kingdom  \n",
              "9 2010-12-01 14:32:00      11.02       None  United Kingdom  "
            ],
            "text/html": [
              "\n",
              "  <div id=\"df-3bdf8f63-0cbf-4de9-80f0-f2c08deb204f\" class=\"colab-df-container\">\n",
              "    <div>\n",
              "<style scoped>\n",
              "    .dataframe tbody tr th:only-of-type {\n",
              "        vertical-align: middle;\n",
              "    }\n",
              "\n",
              "    .dataframe tbody tr th {\n",
              "        vertical-align: top;\n",
              "    }\n",
              "\n",
              "    .dataframe thead th {\n",
              "        text-align: right;\n",
              "    }\n",
              "</style>\n",
              "<table border=\"1\" class=\"dataframe\">\n",
              "  <thead>\n",
              "    <tr style=\"text-align: right;\">\n",
              "      <th></th>\n",
              "      <th>InvoiceNo</th>\n",
              "      <th>StockCode</th>\n",
              "      <th>Description</th>\n",
              "      <th>Quantity</th>\n",
              "      <th>InvoiceDate</th>\n",
              "      <th>UnitPrice</th>\n",
              "      <th>CustomerID</th>\n",
              "      <th>Country</th>\n",
              "    </tr>\n",
              "  </thead>\n",
              "  <tbody>\n",
              "    <tr>\n",
              "      <th>0</th>\n",
              "      <td>536414</td>\n",
              "      <td>22139</td>\n",
              "      <td>None</td>\n",
              "      <td>56</td>\n",
              "      <td>2010-12-01 11:52:00</td>\n",
              "      <td>0.00</td>\n",
              "      <td>None</td>\n",
              "      <td>United Kingdom</td>\n",
              "    </tr>\n",
              "    <tr>\n",
              "      <th>1</th>\n",
              "      <td>536544</td>\n",
              "      <td>22077</td>\n",
              "      <td>6 RIBBONS RUSTIC CHARM</td>\n",
              "      <td>3</td>\n",
              "      <td>2010-12-01 14:32:00</td>\n",
              "      <td>3.36</td>\n",
              "      <td>None</td>\n",
              "      <td>United Kingdom</td>\n",
              "    </tr>\n",
              "    <tr>\n",
              "      <th>2</th>\n",
              "      <td>536544</td>\n",
              "      <td>22111</td>\n",
              "      <td>SCOTTIE DOG HOT WATER BOTTLE</td>\n",
              "      <td>2</td>\n",
              "      <td>2010-12-01 14:32:00</td>\n",
              "      <td>11.02</td>\n",
              "      <td>None</td>\n",
              "      <td>United Kingdom</td>\n",
              "    </tr>\n",
              "    <tr>\n",
              "      <th>3</th>\n",
              "      <td>536544</td>\n",
              "      <td>22080</td>\n",
              "      <td>RIBBON REEL POLKADOTS</td>\n",
              "      <td>1</td>\n",
              "      <td>2010-12-01 14:32:00</td>\n",
              "      <td>3.36</td>\n",
              "      <td>None</td>\n",
              "      <td>United Kingdom</td>\n",
              "    </tr>\n",
              "    <tr>\n",
              "      <th>4</th>\n",
              "      <td>536544</td>\n",
              "      <td>71459</td>\n",
              "      <td>HANGING JAM JAR T-LIGHT HOLDER</td>\n",
              "      <td>8</td>\n",
              "      <td>2010-12-01 14:32:00</td>\n",
              "      <td>1.69</td>\n",
              "      <td>None</td>\n",
              "      <td>United Kingdom</td>\n",
              "    </tr>\n",
              "    <tr>\n",
              "      <th>5</th>\n",
              "      <td>536544</td>\n",
              "      <td>21790</td>\n",
              "      <td>VINTAGE SNAP CARDS</td>\n",
              "      <td>9</td>\n",
              "      <td>2010-12-01 14:32:00</td>\n",
              "      <td>1.66</td>\n",
              "      <td>None</td>\n",
              "      <td>United Kingdom</td>\n",
              "    </tr>\n",
              "    <tr>\n",
              "      <th>6</th>\n",
              "      <td>536544</td>\n",
              "      <td>22037</td>\n",
              "      <td>ROBOT BIRTHDAY CARD</td>\n",
              "      <td>1</td>\n",
              "      <td>2010-12-01 14:32:00</td>\n",
              "      <td>0.85</td>\n",
              "      <td>None</td>\n",
              "      <td>United Kingdom</td>\n",
              "    </tr>\n",
              "    <tr>\n",
              "      <th>7</th>\n",
              "      <td>536544</td>\n",
              "      <td>22224</td>\n",
              "      <td>WHITE LOVEBIRD LANTERN</td>\n",
              "      <td>1</td>\n",
              "      <td>2010-12-01 14:32:00</td>\n",
              "      <td>5.91</td>\n",
              "      <td>None</td>\n",
              "      <td>United Kingdom</td>\n",
              "    </tr>\n",
              "    <tr>\n",
              "      <th>8</th>\n",
              "      <td>536544</td>\n",
              "      <td>22379</td>\n",
              "      <td>RECYCLING BAG RETROSPOT</td>\n",
              "      <td>2</td>\n",
              "      <td>2010-12-01 14:32:00</td>\n",
              "      <td>4.21</td>\n",
              "      <td>None</td>\n",
              "      <td>United Kingdom</td>\n",
              "    </tr>\n",
              "    <tr>\n",
              "      <th>9</th>\n",
              "      <td>536544</td>\n",
              "      <td>85064</td>\n",
              "      <td>CREAM SWEETHEART LETTER RACK</td>\n",
              "      <td>1</td>\n",
              "      <td>2010-12-01 14:32:00</td>\n",
              "      <td>11.02</td>\n",
              "      <td>None</td>\n",
              "      <td>United Kingdom</td>\n",
              "    </tr>\n",
              "  </tbody>\n",
              "</table>\n",
              "</div>\n",
              "    <div class=\"colab-df-buttons\">\n",
              "\n",
              "  <div class=\"colab-df-container\">\n",
              "    <button class=\"colab-df-convert\" onclick=\"convertToInteractive('df-3bdf8f63-0cbf-4de9-80f0-f2c08deb204f')\"\n",
              "            title=\"Convert this dataframe to an interactive table.\"\n",
              "            style=\"display:none;\">\n",
              "\n",
              "  <svg xmlns=\"http://www.w3.org/2000/svg\" height=\"24px\" viewBox=\"0 -960 960 960\">\n",
              "    <path d=\"M120-120v-720h720v720H120Zm60-500h600v-160H180v160Zm220 220h160v-160H400v160Zm0 220h160v-160H400v160ZM180-400h160v-160H180v160Zm440 0h160v-160H620v160ZM180-180h160v-160H180v160Zm440 0h160v-160H620v160Z\"/>\n",
              "  </svg>\n",
              "    </button>\n",
              "\n",
              "  <style>\n",
              "    .colab-df-container {\n",
              "      display:flex;\n",
              "      gap: 12px;\n",
              "    }\n",
              "\n",
              "    .colab-df-convert {\n",
              "      background-color: #E8F0FE;\n",
              "      border: none;\n",
              "      border-radius: 50%;\n",
              "      cursor: pointer;\n",
              "      display: none;\n",
              "      fill: #1967D2;\n",
              "      height: 32px;\n",
              "      padding: 0 0 0 0;\n",
              "      width: 32px;\n",
              "    }\n",
              "\n",
              "    .colab-df-convert:hover {\n",
              "      background-color: #E2EBFA;\n",
              "      box-shadow: 0px 1px 2px rgba(60, 64, 67, 0.3), 0px 1px 3px 1px rgba(60, 64, 67, 0.15);\n",
              "      fill: #174EA6;\n",
              "    }\n",
              "\n",
              "    .colab-df-buttons div {\n",
              "      margin-bottom: 4px;\n",
              "    }\n",
              "\n",
              "    [theme=dark] .colab-df-convert {\n",
              "      background-color: #3B4455;\n",
              "      fill: #D2E3FC;\n",
              "    }\n",
              "\n",
              "    [theme=dark] .colab-df-convert:hover {\n",
              "      background-color: #434B5C;\n",
              "      box-shadow: 0px 1px 3px 1px rgba(0, 0, 0, 0.15);\n",
              "      filter: drop-shadow(0px 1px 2px rgba(0, 0, 0, 0.3));\n",
              "      fill: #FFFFFF;\n",
              "    }\n",
              "  </style>\n",
              "\n",
              "    <script>\n",
              "      const buttonEl =\n",
              "        document.querySelector('#df-3bdf8f63-0cbf-4de9-80f0-f2c08deb204f button.colab-df-convert');\n",
              "      buttonEl.style.display =\n",
              "        google.colab.kernel.accessAllowed ? 'block' : 'none';\n",
              "\n",
              "      async function convertToInteractive(key) {\n",
              "        const element = document.querySelector('#df-3bdf8f63-0cbf-4de9-80f0-f2c08deb204f');\n",
              "        const dataTable =\n",
              "          await google.colab.kernel.invokeFunction('convertToInteractive',\n",
              "                                                    [key], {});\n",
              "        if (!dataTable) return;\n",
              "\n",
              "        const docLinkHtml = 'Like what you see? Visit the ' +\n",
              "          '<a target=\"_blank\" href=https://colab.research.google.com/notebooks/data_table.ipynb>data table notebook</a>'\n",
              "          + ' to learn more about interactive tables.';\n",
              "        element.innerHTML = '';\n",
              "        dataTable['output_type'] = 'display_data';\n",
              "        await google.colab.output.renderOutput(dataTable, element);\n",
              "        const docLink = document.createElement('div');\n",
              "        docLink.innerHTML = docLinkHtml;\n",
              "        element.appendChild(docLink);\n",
              "      }\n",
              "    </script>\n",
              "  </div>\n",
              "\n",
              "\n",
              "<div id=\"df-ebac56ca-859d-4295-8e4d-d887b2f48fde\">\n",
              "  <button class=\"colab-df-quickchart\" onclick=\"quickchart('df-ebac56ca-859d-4295-8e4d-d887b2f48fde')\"\n",
              "            title=\"Suggest charts\"\n",
              "            style=\"display:none;\">\n",
              "\n",
              "<svg xmlns=\"http://www.w3.org/2000/svg\" height=\"24px\"viewBox=\"0 0 24 24\"\n",
              "     width=\"24px\">\n",
              "    <g>\n",
              "        <path d=\"M19 3H5c-1.1 0-2 .9-2 2v14c0 1.1.9 2 2 2h14c1.1 0 2-.9 2-2V5c0-1.1-.9-2-2-2zM9 17H7v-7h2v7zm4 0h-2V7h2v10zm4 0h-2v-4h2v4z\"/>\n",
              "    </g>\n",
              "</svg>\n",
              "  </button>\n",
              "\n",
              "<style>\n",
              "  .colab-df-quickchart {\n",
              "      --bg-color: #E8F0FE;\n",
              "      --fill-color: #1967D2;\n",
              "      --hover-bg-color: #E2EBFA;\n",
              "      --hover-fill-color: #174EA6;\n",
              "      --disabled-fill-color: #AAA;\n",
              "      --disabled-bg-color: #DDD;\n",
              "  }\n",
              "\n",
              "  [theme=dark] .colab-df-quickchart {\n",
              "      --bg-color: #3B4455;\n",
              "      --fill-color: #D2E3FC;\n",
              "      --hover-bg-color: #434B5C;\n",
              "      --hover-fill-color: #FFFFFF;\n",
              "      --disabled-bg-color: #3B4455;\n",
              "      --disabled-fill-color: #666;\n",
              "  }\n",
              "\n",
              "  .colab-df-quickchart {\n",
              "    background-color: var(--bg-color);\n",
              "    border: none;\n",
              "    border-radius: 50%;\n",
              "    cursor: pointer;\n",
              "    display: none;\n",
              "    fill: var(--fill-color);\n",
              "    height: 32px;\n",
              "    padding: 0;\n",
              "    width: 32px;\n",
              "  }\n",
              "\n",
              "  .colab-df-quickchart:hover {\n",
              "    background-color: var(--hover-bg-color);\n",
              "    box-shadow: 0 1px 2px rgba(60, 64, 67, 0.3), 0 1px 3px 1px rgba(60, 64, 67, 0.15);\n",
              "    fill: var(--button-hover-fill-color);\n",
              "  }\n",
              "\n",
              "  .colab-df-quickchart-complete:disabled,\n",
              "  .colab-df-quickchart-complete:disabled:hover {\n",
              "    background-color: var(--disabled-bg-color);\n",
              "    fill: var(--disabled-fill-color);\n",
              "    box-shadow: none;\n",
              "  }\n",
              "\n",
              "  .colab-df-spinner {\n",
              "    border: 2px solid var(--fill-color);\n",
              "    border-color: transparent;\n",
              "    border-bottom-color: var(--fill-color);\n",
              "    animation:\n",
              "      spin 1s steps(1) infinite;\n",
              "  }\n",
              "\n",
              "  @keyframes spin {\n",
              "    0% {\n",
              "      border-color: transparent;\n",
              "      border-bottom-color: var(--fill-color);\n",
              "      border-left-color: var(--fill-color);\n",
              "    }\n",
              "    20% {\n",
              "      border-color: transparent;\n",
              "      border-left-color: var(--fill-color);\n",
              "      border-top-color: var(--fill-color);\n",
              "    }\n",
              "    30% {\n",
              "      border-color: transparent;\n",
              "      border-left-color: var(--fill-color);\n",
              "      border-top-color: var(--fill-color);\n",
              "      border-right-color: var(--fill-color);\n",
              "    }\n",
              "    40% {\n",
              "      border-color: transparent;\n",
              "      border-right-color: var(--fill-color);\n",
              "      border-top-color: var(--fill-color);\n",
              "    }\n",
              "    60% {\n",
              "      border-color: transparent;\n",
              "      border-right-color: var(--fill-color);\n",
              "    }\n",
              "    80% {\n",
              "      border-color: transparent;\n",
              "      border-right-color: var(--fill-color);\n",
              "      border-bottom-color: var(--fill-color);\n",
              "    }\n",
              "    90% {\n",
              "      border-color: transparent;\n",
              "      border-bottom-color: var(--fill-color);\n",
              "    }\n",
              "  }\n",
              "</style>\n",
              "\n",
              "  <script>\n",
              "    async function quickchart(key) {\n",
              "      const quickchartButtonEl =\n",
              "        document.querySelector('#' + key + ' button');\n",
              "      quickchartButtonEl.disabled = true;  // To prevent multiple clicks.\n",
              "      quickchartButtonEl.classList.add('colab-df-spinner');\n",
              "      try {\n",
              "        const charts = await google.colab.kernel.invokeFunction(\n",
              "            'suggestCharts', [key], {});\n",
              "      } catch (error) {\n",
              "        console.error('Error during call to suggestCharts:', error);\n",
              "      }\n",
              "      quickchartButtonEl.classList.remove('colab-df-spinner');\n",
              "      quickchartButtonEl.classList.add('colab-df-quickchart-complete');\n",
              "    }\n",
              "    (() => {\n",
              "      let quickchartButtonEl =\n",
              "        document.querySelector('#df-ebac56ca-859d-4295-8e4d-d887b2f48fde button');\n",
              "      quickchartButtonEl.style.display =\n",
              "        google.colab.kernel.accessAllowed ? 'block' : 'none';\n",
              "    })();\n",
              "  </script>\n",
              "</div>\n",
              "    </div>\n",
              "  </div>\n"
            ]
          },
          "metadata": {},
          "execution_count": 25
        }
      ]
    },
    {
      "cell_type": "markdown",
      "source": [
        "# Data Transformation in Python"
      ],
      "metadata": {
        "id": "Mybo-C2jCBdu"
      },
      "id": "Mybo-C2jCBdu"
    },
    {
      "cell_type": "markdown",
      "source": [
        "## Remove Cancelled InvoiceNo"
      ],
      "metadata": {
        "id": "Fc7v5y-tHyVE"
      },
      "id": "Fc7v5y-tHyVE"
    },
    {
      "cell_type": "code",
      "source": [
        "query = \"SELECT * FROM `finalproject-g2df12.retail.fct_invoices`\"\n",
        "fct_invoices = run_query(query)\n",
        "print(\"\\nNumber of initial invoices:\", (fct_invoices).shape[0])\n",
        "\n",
        "print(\"\\nNumber of invoices with more than 6 chars:\", (fct_invoices[fct_invoices['InvoiceNo'].str.len() > 6]).shape[0])\n",
        "\n",
        "# Filter rows where length of 'InvoiceNo' is 6 or fewer characters\n",
        "fct_invoices = fct_invoices[fct_invoices['InvoiceNo'].str.len() <= 6]\n",
        "\n",
        "print(\"\\nNumber of cleaned invoices:\", (fct_invoices).shape[0])"
      ],
      "metadata": {
        "colab": {
          "base_uri": "https://localhost:8080/"
        },
        "id": "CbwPUWBaIw2c",
        "executionInfo": {
          "status": "ok",
          "timestamp": 1717486187920,
          "user_tz": -420,
          "elapsed": 12399,
          "user": {
            "displayName": "",
            "userId": ""
          }
        },
        "outputId": "edf4ef62-0db1-4790-cdd5-51e2a0501557"
      },
      "id": "CbwPUWBaIw2c",
      "execution_count": null,
      "outputs": [
        {
          "output_type": "stream",
          "name": "stdout",
          "text": [
            "\n",
            "Number of initial invoices: 541909\n",
            "\n",
            "Number of invoices with more than 6 chars: 9291\n",
            "\n",
            "Number of cleaned invoices: 532618\n"
          ]
        }
      ]
    },
    {
      "cell_type": "markdown",
      "source": [
        "## Remove Missing CustomerID"
      ],
      "metadata": {
        "id": "Zhe8LIRaM3QT"
      },
      "id": "Zhe8LIRaM3QT"
    },
    {
      "cell_type": "code",
      "source": [
        "query = \"SELECT * FROM `finalproject-g2df12.retail.dim_customers`\"\n",
        "dim_customers = run_query(query)\n",
        "print(\"\\nNumber of initial customers:\", (dim_customers).shape[0])\n",
        "\n",
        "# Drop rows with null CustomerID\n",
        "dim_customers = dim_customers.dropna(subset=['CustomerID'])\n",
        "print(\"\\nNumber of cleaned customers:\", (dim_customers).shape[0])"
      ],
      "metadata": {
        "colab": {
          "base_uri": "https://localhost:8080/"
        },
        "id": "KffadiKYM7Ta",
        "executionInfo": {
          "status": "ok",
          "timestamp": 1717503469485,
          "user_tz": -420,
          "elapsed": 1617,
          "user": {
            "displayName": "",
            "userId": ""
          }
        },
        "outputId": "ae8b2950-bcb5-44f3-d670-d16e52bdfed9"
      },
      "id": "KffadiKYM7Ta",
      "execution_count": null,
      "outputs": [
        {
          "output_type": "stream",
          "name": "stdout",
          "text": [
            "\n",
            "Number of initial customers: 4389\n",
            "\n",
            "Number of cleaned customers: 4380\n"
          ]
        }
      ]
    },
    {
      "cell_type": "markdown",
      "source": [
        "## Negative UnitPrice"
      ],
      "metadata": {
        "id": "avn6ZFKnMxgO"
      },
      "id": "avn6ZFKnMxgO"
    },
    {
      "cell_type": "code",
      "source": [
        "query = \"SELECT * FROM `finalproject-g2df12.retail.dim_products`\"\n",
        "dim_products = run_query(query)\n",
        "\n",
        "# Check for negative UnitPrice\n",
        "print(\"\\nNumber of negative UnitPrice:\", (dim_products[dim_products['UnitPrice'] < 0]).shape[0])\n",
        "\n",
        "# Show products with negative unitprice\n",
        "print(\"\\nProducts with negative UnitPrice:\")\n",
        "dim_products[dim_products['UnitPrice'] < 0]"
      ],
      "metadata": {
        "colab": {
          "base_uri": "https://localhost:8080/",
          "height": 150
        },
        "id": "E8bXTSs9L93B",
        "executionInfo": {
          "status": "ok",
          "timestamp": 1717503680035,
          "user_tz": -420,
          "elapsed": 1509,
          "user": {
            "displayName": "",
            "userId": ""
          }
        },
        "outputId": "2ffc383a-0c89-4279-bb91-f9bbf569cb71"
      },
      "id": "E8bXTSs9L93B",
      "execution_count": null,
      "outputs": [
        {
          "output_type": "stream",
          "name": "stdout",
          "text": [
            "\n",
            "Number of negative UnitPrice: 1\n",
            "\n",
            "Products with negative UnitPrice:\n"
          ]
        },
        {
          "output_type": "execute_result",
          "data": {
            "text/plain": [
              "     StockCode      Description  UnitPrice\n",
              "4038         B  Adjust bad debt  -11062.06"
            ],
            "text/html": [
              "\n",
              "  <div id=\"df-8a4a2e85-5668-4e67-856f-78f8cc901462\" class=\"colab-df-container\">\n",
              "    <div>\n",
              "<style scoped>\n",
              "    .dataframe tbody tr th:only-of-type {\n",
              "        vertical-align: middle;\n",
              "    }\n",
              "\n",
              "    .dataframe tbody tr th {\n",
              "        vertical-align: top;\n",
              "    }\n",
              "\n",
              "    .dataframe thead th {\n",
              "        text-align: right;\n",
              "    }\n",
              "</style>\n",
              "<table border=\"1\" class=\"dataframe\">\n",
              "  <thead>\n",
              "    <tr style=\"text-align: right;\">\n",
              "      <th></th>\n",
              "      <th>StockCode</th>\n",
              "      <th>Description</th>\n",
              "      <th>UnitPrice</th>\n",
              "    </tr>\n",
              "  </thead>\n",
              "  <tbody>\n",
              "    <tr>\n",
              "      <th>4038</th>\n",
              "      <td>B</td>\n",
              "      <td>Adjust bad debt</td>\n",
              "      <td>-11062.06</td>\n",
              "    </tr>\n",
              "  </tbody>\n",
              "</table>\n",
              "</div>\n",
              "    <div class=\"colab-df-buttons\">\n",
              "\n",
              "  <div class=\"colab-df-container\">\n",
              "    <button class=\"colab-df-convert\" onclick=\"convertToInteractive('df-8a4a2e85-5668-4e67-856f-78f8cc901462')\"\n",
              "            title=\"Convert this dataframe to an interactive table.\"\n",
              "            style=\"display:none;\">\n",
              "\n",
              "  <svg xmlns=\"http://www.w3.org/2000/svg\" height=\"24px\" viewBox=\"0 -960 960 960\">\n",
              "    <path d=\"M120-120v-720h720v720H120Zm60-500h600v-160H180v160Zm220 220h160v-160H400v160Zm0 220h160v-160H400v160ZM180-400h160v-160H180v160Zm440 0h160v-160H620v160ZM180-180h160v-160H180v160Zm440 0h160v-160H620v160Z\"/>\n",
              "  </svg>\n",
              "    </button>\n",
              "\n",
              "  <style>\n",
              "    .colab-df-container {\n",
              "      display:flex;\n",
              "      gap: 12px;\n",
              "    }\n",
              "\n",
              "    .colab-df-convert {\n",
              "      background-color: #E8F0FE;\n",
              "      border: none;\n",
              "      border-radius: 50%;\n",
              "      cursor: pointer;\n",
              "      display: none;\n",
              "      fill: #1967D2;\n",
              "      height: 32px;\n",
              "      padding: 0 0 0 0;\n",
              "      width: 32px;\n",
              "    }\n",
              "\n",
              "    .colab-df-convert:hover {\n",
              "      background-color: #E2EBFA;\n",
              "      box-shadow: 0px 1px 2px rgba(60, 64, 67, 0.3), 0px 1px 3px 1px rgba(60, 64, 67, 0.15);\n",
              "      fill: #174EA6;\n",
              "    }\n",
              "\n",
              "    .colab-df-buttons div {\n",
              "      margin-bottom: 4px;\n",
              "    }\n",
              "\n",
              "    [theme=dark] .colab-df-convert {\n",
              "      background-color: #3B4455;\n",
              "      fill: #D2E3FC;\n",
              "    }\n",
              "\n",
              "    [theme=dark] .colab-df-convert:hover {\n",
              "      background-color: #434B5C;\n",
              "      box-shadow: 0px 1px 3px 1px rgba(0, 0, 0, 0.15);\n",
              "      filter: drop-shadow(0px 1px 2px rgba(0, 0, 0, 0.3));\n",
              "      fill: #FFFFFF;\n",
              "    }\n",
              "  </style>\n",
              "\n",
              "    <script>\n",
              "      const buttonEl =\n",
              "        document.querySelector('#df-8a4a2e85-5668-4e67-856f-78f8cc901462 button.colab-df-convert');\n",
              "      buttonEl.style.display =\n",
              "        google.colab.kernel.accessAllowed ? 'block' : 'none';\n",
              "\n",
              "      async function convertToInteractive(key) {\n",
              "        const element = document.querySelector('#df-8a4a2e85-5668-4e67-856f-78f8cc901462');\n",
              "        const dataTable =\n",
              "          await google.colab.kernel.invokeFunction('convertToInteractive',\n",
              "                                                    [key], {});\n",
              "        if (!dataTable) return;\n",
              "\n",
              "        const docLinkHtml = 'Like what you see? Visit the ' +\n",
              "          '<a target=\"_blank\" href=https://colab.research.google.com/notebooks/data_table.ipynb>data table notebook</a>'\n",
              "          + ' to learn more about interactive tables.';\n",
              "        element.innerHTML = '';\n",
              "        dataTable['output_type'] = 'display_data';\n",
              "        await google.colab.output.renderOutput(dataTable, element);\n",
              "        const docLink = document.createElement('div');\n",
              "        docLink.innerHTML = docLinkHtml;\n",
              "        element.appendChild(docLink);\n",
              "      }\n",
              "    </script>\n",
              "  </div>\n",
              "\n",
              "    </div>\n",
              "  </div>\n"
            ]
          },
          "metadata": {},
          "execution_count": 36
        }
      ]
    },
    {
      "cell_type": "code",
      "source": [
        "# Drop rows with negative UnitPrice\n",
        "dim_products = dim_products[dim_products['UnitPrice'] >= 0]\n",
        "print(\"\\nNumber of cleaned products:\", (dim_products).shape[0])"
      ],
      "metadata": {
        "colab": {
          "base_uri": "https://localhost:8080/"
        },
        "id": "cF0rPvRVM2a5",
        "executionInfo": {
          "status": "ok",
          "timestamp": 1717503771908,
          "user_tz": -420,
          "elapsed": 158,
          "user": {
            "displayName": "",
            "userId": ""
          }
        },
        "outputId": "0d55a6bb-45ee-45ab-c7d0-a6b67de73fc1"
      },
      "id": "cF0rPvRVM2a5",
      "execution_count": null,
      "outputs": [
        {
          "output_type": "stream",
          "name": "stdout",
          "text": [
            "\n",
            "Number of cleaned products: 4069\n"
          ]
        }
      ]
    },
    {
      "cell_type": "markdown",
      "source": [
        "# Gold Schema"
      ],
      "metadata": {
        "id": "w_-zCz0sFj4r"
      },
      "id": "w_-zCz0sFj4r"
    },
    {
      "cell_type": "code",
      "source": [
        "CREATE OR REPLACE TABLE `finalproject-g2df12.retail.report_sales` AS\n",
        "\n",
        "SELECT\n",
        "  InvoiceNo,\n",
        "  InvoiceDate,\n",
        "  fct.StockCode,\n",
        "  Description,\n",
        "  UnitPrice,\n",
        "  Quantity,\n",
        "  UnitPrice * Quantity AS TotalPrice\n",
        "FROM `finalproject-g2df12.retail.fct_invoices` AS fct\n",
        "LEFT JOIN `finalproject-g2df12.retail.dim_products` AS prod\n",
        "  ON fct.StockCode = prod.StockCode"
      ],
      "metadata": {
        "id": "eb3e7J9YEQxp"
      },
      "id": "eb3e7J9YEQxp",
      "execution_count": null,
      "outputs": []
    },
    {
      "cell_type": "code",
      "source": [
        "CREATE OR REPLACE TABLE `finalproject-g2df12.retail.report_customers` AS\n",
        "\n",
        "SELECT\n",
        "  DISTINCT fct.CustomerID,\n",
        "  Country,\n",
        "  RFM_Score,\n",
        "  RFM_Segment,\n",
        "  Segment,\n",
        "  COUNT(InvoiceNo) OVER(PARTITION BY fct.CustomerID) AS Total_Orders,\n",
        "  SUM(Quantity) OVER(PARTITION BY fct.CustomerID) AS Total_Items,\n",
        "  SUM(TotalPrice) OVER(PARTITION BY fct.CustomerID) AS Total_Purchase\n",
        "FROM `finalproject-g2df12.retail.fct_invoices` AS fct\n",
        "LEFT JOIN `finalproject-g2df12.retail.dim_customers` AS cus\n",
        "  ON fct.CustomerID = cus.CustomerID\n",
        "LEFT JOIN `finalproject-g2df12.retail.rfm_segmentation` AS rfm\n",
        "  ON fct.CustomerID = rfm.CustomerID\n",
        "WHERE fct.CustomerID IS NOT NULL\n",
        "ORDER BY CustomerID"
      ],
      "metadata": {
        "id": "rHXVXOtvERMV"
      },
      "id": "rHXVXOtvERMV",
      "execution_count": null,
      "outputs": []
    },
    {
      "cell_type": "code",
      "source": [
        "CREATE OR REPLACE TABLE `finalproject-g2df12.retail.report_transactions` AS\n",
        "\n",
        "SELECT\n",
        "  InvoiceNo,\n",
        "  DATE(InvoiceDate) AS Transaction_Date,\n",
        "  CustomerID,\n",
        "  SUM(Quantity) AS Total_Items,\n",
        "  SUM(TotalPrice) AS Total_Sales\n",
        "FROM `finalproject-g2df12.retail.fct_invoices`\n",
        "WHERE CustomerID IS NOT NULL\n",
        "GROUP BY CustomerID, InvoiceNo, InvoiceDate"
      ],
      "metadata": {
        "id": "7EI98OUuFDPz"
      },
      "id": "7EI98OUuFDPz",
      "execution_count": null,
      "outputs": []
    }
  ],
  "metadata": {
    "kernelspec": {
      "display_name": "Python 3",
      "language": "python",
      "name": "python3"
    },
    "language_info": {
      "codemirror_mode": {
        "name": "ipython",
        "version": 3
      },
      "file_extension": ".py",
      "mimetype": "text/x-python",
      "name": "python",
      "nbconvert_exporter": "python",
      "pygments_lexer": "ipython3",
      "version": "3.10.10"
    },
    "colab": {
      "provenance": [],
      "name": "Dataset Preparation",
      "toc_visible": true,
      "collapsed_sections": [
        "Mybo-C2jCBdu"
      ]
    }
  },
  "nbformat": 4,
  "nbformat_minor": 5
}